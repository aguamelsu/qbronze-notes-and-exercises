{
 "cells": [
  {
   "cell_type": "markdown",
   "id": "87f9e4e6",
   "metadata": {},
   "source": [
    "<center>\n",
    "<h2 style=\"font-weight: bold\">03: Probabilistic States</h2>\n",
    "</center>"
   ]
  },
  {
   "cell_type": "markdown",
   "id": "f2a6136b",
   "metadata": {},
   "source": [
    "Once a coin has been tossed and we get a result (either Heads or Tails | 1 or 0), its is called a **deterministic state**. \n",
    "\n",
    "But before getting a **deterministic state** there is a **probabilistic state**:\n",
    "- 50% Heads or Tails for a fair coin\n",
    "- 60% Heads or 40% Tails for a biased coin (for example)"
   ]
  },
  {
   "cell_type": "markdown",
   "id": "76efa068",
   "metadata": {},
   "source": [
    "### Probabilities as vectors\n",
    "\n",
    "For representic binomial probabilistic states we can use a 2 dimensional column vector:\n",
    "\n",
    "For the fair coin: $\\begin{pmatrix} 0.5 \\\\ 0.5 \\end{pmatrix}$. \n",
    "\n",
    "For the biased coin: $\\begin{pmatrix} 0.6 \\\\ 0.4 \\end{pmatrix}$."
   ]
  },
  {
   "cell_type": "markdown",
   "id": "dd3481ee",
   "metadata": {},
   "source": [
    "### Vector representation\n",
    "\n",
    "In a system with different probabilistic states, we can represent them as a vector column, where each row represents a different state, as long as the summation of all the entries **equals 1**:\n",
    "\n",
    "$$P(X)=\\begin{pmatrix} s_1 \\\\ s_2 \\\\ . \\\\ . \\\\ s_n \\end{pmatrix}$$\n",
    "\n",
    "A probabilistic state must satisfy certain properties:\n",
    "1. Each coefficient is non-negative\n",
    "2. The summation of coefficient is 1\n",
    "All of this information can be summarized as an object called *stochastic vector*"
   ]
  },
  {
   "cell_type": "markdown",
   "id": "998e685a",
   "metadata": {},
   "source": []
  }
 ],
 "metadata": {
  "language_info": {
   "name": "python"
  }
 },
 "nbformat": 4,
 "nbformat_minor": 5
}
