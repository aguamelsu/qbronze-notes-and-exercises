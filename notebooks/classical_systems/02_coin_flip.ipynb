{
 "cells": [
  {
   "cell_type": "markdown",
   "id": "b6ef59a1",
   "metadata": {},
   "source": [
    "<center>\n",
    "<h2 style=\"font-weight: bold\">02: Probabilistic Bits</h2>\n",
    "</center>"
   ]
  },
  {
   "cell_type": "markdown",
   "id": "d9d293b7",
   "metadata": {},
   "source": [
    "After flipping a coin, only two outcomes are possible: either *Heads* or *Tails*. A single bit can represent this:\n",
    "- 0 represents *Heads*\n",
    "- 1 represents *Tails*"
   ]
  },
  {
   "cell_type": "markdown",
   "id": "cc7d9865",
   "metadata": {},
   "source": [
    "### Fair coins \n",
    "\n",
    "If a coin is not biased, then the probabilities of getting Heads or Tails are equal:\n",
    "$$p=\\frac{1}{2}=0.5$$\n",
    "\n",
    "This can be represented as an operator using the probabilistic bit stated above, where each **initial state** has 50% of probability of landing into either Heads or Tails as a **final state**:\n",
    "\n",
    "$$\n",
    "\\begin{array}{c|c}\n",
    "\\begin{array}{c}\n",
    "\\text{Fair Coin} =\n",
    "\\begin{array}{c|cc}\n",
    " & \\mathbf{H} & \\mathbf{T} \\\\\n",
    "\\hline\n",
    "\\mathbf{H} & 0.5 & 0.5 \\\\\n",
    "\\mathbf{T} & 0.5 & 0.5\n",
    "\\end{array}\n",
    "\\end{array}\n",
    "&\n",
    "\\begin{array}{c}\n",
    "=\n",
    "\\begin{array}{c|cc}\n",
    " & \\mathbf{0} & \\mathbf{1} \\\\\n",
    "\\hline\n",
    "\\mathbf{0} & 0.5 & 0.5 \\\\\n",
    "\\mathbf{1} & 0.5 & 0.5\n",
    "\\end{array}\n",
    "\\end{array}\n",
    "\\end{array}\n",
    "$$"
   ]
  },
  {
   "cell_type": "markdown",
   "id": "a9b5f8a9",
   "metadata": {},
   "source": [
    "### Biased coins\n",
    "\n",
    "Real events might not show a binary outcome with equal probability. In this case, lets say the probability of getting Tails is greater than the probability of getting Heads:\n",
    "\n",
    "$$\n",
    "\\begin{array}{c|c}\n",
    "\\begin{array}{c}\n",
    "\\text{Biased Coin} =\n",
    "\\begin{array}{c|cc}\n",
    " & \\mathbf{H} & \\mathbf{T} \\\\\n",
    "\\hline\n",
    "\\mathbf{H} & 0.4 & 0.4 \\\\\n",
    "\\mathbf{T} & 0.6 & 0.6\n",
    "\\end{array}\n",
    "\\end{array}\n",
    "&\n",
    "\\begin{array}{c}\n",
    "=\n",
    "\\begin{array}{c|cc}\n",
    " & \\mathbf{0} & \\mathbf{1} \\\\\n",
    "\\hline\n",
    "\\mathbf{0} & 0.4 & 0.4 \\\\\n",
    "\\mathbf{1} & 0.6 & 0.6\n",
    "\\end{array}\n",
    "\\end{array}\n",
    "\\end{array}\n",
    "$$"
   ]
  }
 ],
 "metadata": {
  "language_info": {
   "name": "python"
  }
 },
 "nbformat": 4,
 "nbformat_minor": 5
}
