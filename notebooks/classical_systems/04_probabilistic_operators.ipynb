{
 "cells": [
  {
   "cell_type": "markdown",
   "id": "14f1a22d",
   "metadata": {},
   "source": [
    "<center>\n",
    "<h2 style=\"font-weight: bold\">04: Probabilistic Operators</h2>\n",
    "</center>"
   ]
  },
  {
   "cell_type": "markdown",
   "id": "655350f0",
   "metadata": {},
   "source": [
    "Probabilistic operators can be represented as matrices. The entries represent the transition probabilities between states. The summation of all entries in each column is 1. This is a **stochastic matrix**\n",
    "\n",
    "- A probabilistic state is a *stochastic vector*\n",
    "- A probabilistic operator is a *stochastic matrix*\n",
    "\n",
    "Lets say a coin is tossed 10 times wih 8 Heads and 2 Tails, this is the current state:\n",
    "\n",
    "$$s_{1} = \\begin{pmatrix} 0.8 \\\\ 0.2 \\end{pmatrix}$$\n",
    "\n",
    "And the Game can be represented with the following (proposed) probabilistic operator:\n",
    "\n",
    "$$\n",
    "GameCoins = \\begin{array}{c|cc} \\hookleftarrow & \\mathbf{Head} & \\mathbf{Tail} \\\\ \\hline \\mathbf{Head} & 0.8 & 0.4\\\\  \\mathbf{Tail} & 0.2 & 0.6  \\end{array}\n",
    "$$\n",
    "\n",
    "Applying the probabilistic operator to the probabilistic state we have that the new state $v'$ is:\n",
    "\n",
    "$$v' = \\begin{pmatrix} 0.8 & 0.4 \\\\ 0.2 & 0.6 \\end{pmatrix} \\cdot \\begin{pmatrix} 0.8 \\\\ 0.2 \\end{pmatrix} = \\begin{pmatrix} 0.72 \\\\ 0.28 \\end{pmatrix}$$\n",
    "\n",
    "This means that there is 72% chance of getting Heads and 28% chance of getting tails in the next toss."
   ]
  }
 ],
 "metadata": {
  "kernelspec": {
   "display_name": ".venv",
   "language": "python",
   "name": "python3"
  },
  "language_info": {
   "name": "python",
   "version": "3.12.1"
  }
 },
 "nbformat": 4,
 "nbformat_minor": 5
}
