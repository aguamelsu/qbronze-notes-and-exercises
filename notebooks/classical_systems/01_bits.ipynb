{
 "cells": [
  {
   "cell_type": "markdown",
   "id": "f3dd723c",
   "metadata": {},
   "source": [
    "<center>\n",
    "<h2 style=\"font-weight: bold\">01: Bits</h2>\n",
    "</center>"
   ]
  },
  {
   "cell_type": "markdown",
   "id": "aa979120",
   "metadata": {},
   "source": [
    "- A **bit** is the basic unit of information in computer science. It has two states: 0 and 1. \n",
    "- At any moment, a **bit** can be in just one state. Either state 0, or state 1."
   ]
  },
  {
   "cell_type": "markdown",
   "id": "2a83bf1c",
   "metadata": {},
   "source": [
    "### **Operators**\n",
    "\n",
    "An operator *updates* the current state of a bit. There are four operators:\n",
    "1. Identity $\\rightarrow$ returns the same state of the bit:\n",
    "$$I(0)=0$$\n",
    "$$I(1)=1$$\n",
    "2. Negation $\\rightarrow$ returns the inverse of the original state:\n",
    "$$NOT(0)=1$$\n",
    "$$NOT(1)=0$$\n",
    "3. Constant (Zero) $\\rightarrow$ returns 0 no matter the initial state:\n",
    "$$ZERO(0)=0$$\n",
    "$$ZERO(1)=1$$\n",
    "4. Constant (One) $\\rightarrow$ returns 1 no matter the initial state:\n",
    "$$ONE(1)=1$$\n",
    "$$ONE(0)=1$$"
   ]
  },
  {
   "cell_type": "markdown",
   "id": "df980ef1",
   "metadata": {},
   "source": [
    "### **Tables Representation**\n",
    "\n",
    "For representing state transitions in a tabular form, we can use the following main ideas:\n",
    "- The initial states are on the top (header) and the final states are on the left (first column).\n",
    "- To represent if a transitions:\n",
    "    - We can use 1 if an initial state *goes to* a final state\n",
    "    - Or else 0 if there is no transition between the states\n",
    "\n",
    "\n",
    "$$\n",
    "\\begin{array}{c|c}\n",
    "\\begin{array}{c}\n",
    "I =\n",
    "\\begin{array}{c|cc}\n",
    " & \\mathbf{0} & \\mathbf{1} \\\\\n",
    "\\hline\n",
    "\\mathbf{0} & 1 & 0 \\\\\n",
    "\\mathbf{1} & 0 & 1\n",
    "\\end{array}\n",
    "\\\\[1ex] % <-- safe in KaTeX inside array\n",
    "\\\\\n",
    "NOT =\n",
    "\\begin{array}{c|cc}\n",
    " & \\mathbf{0} & \\mathbf{1} \\\\\n",
    "\\hline\n",
    "\\mathbf{0} & 0 & 1 \\\\\n",
    "\\mathbf{1} & 1 & 0\n",
    "\\end{array}\n",
    "\\end{array}\n",
    "&\n",
    "\\begin{array}{c}\n",
    "ZERO =\n",
    "\\begin{array}{c|cc}\n",
    " & \\mathbf{0} & \\mathbf{1} \\\\\n",
    "\\hline\n",
    "\\mathbf{0} & 1 & 1 \\\\\n",
    "\\mathbf{1} & 0 & 0\n",
    "\\end{array}\n",
    "\\\\[1ex]\n",
    "\\\\\n",
    "ONE =\n",
    "\\begin{array}{c|cc}\n",
    " & \\mathbf{0} & \\mathbf{1} \\\\\n",
    "\\hline\n",
    "\\mathbf{0} & 0 & 0 \\\\\n",
    "\\mathbf{1} & 1 & 1\n",
    "\\end{array}\n",
    "\\end{array}\n",
    "\\end{array}\n",
    "$$"
   ]
  },
  {
   "cell_type": "markdown",
   "id": "573223bc",
   "metadata": {},
   "source": [
    "### **Reversibility and Irreversibility**\n",
    "\n",
    "Operators are clasified into two types: *Reversible* and *Irreversible*:\n",
    "- If an initial value can be recovered from the final value then the operator is *reversible*\n",
    "- If an initial value CAN'T be known from the final value then the operator is called *irreversible*\n",
    "\n",
    "Reversible operators:\n",
    "- Identity $\\rightarrow$ the initial state is simply the same value.\n",
    "- Not $\\rightarrow$ the initial value is simply the other state.\n",
    "\n",
    "Irreversible operators:\n",
    "- ONE $\\rightarrow$ the initial value can be either 1 or 0\n",
    "- ZERO $\\rightarrow$ the initial value can be either 1 or 0"
   ]
  }
 ],
 "metadata": {
  "language_info": {
   "name": "python"
  }
 },
 "nbformat": 4,
 "nbformat_minor": 5
}
