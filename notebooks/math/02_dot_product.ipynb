{
 "cells": [
  {
   "cell_type": "markdown",
   "id": "e6857ef9",
   "metadata": {},
   "source": [
    "<center>\n",
    "<h2 style=\"font-weight: bold\">02: Dot product</h2>\n",
    "</center>"
   ]
  },
  {
   "cell_type": "markdown",
   "id": "83e8cc13",
   "metadata": {},
   "source": [
    "- A dot product is a way of multiplying two vectors with the **SAME** size. \n",
    "- It is also called *scalar product* since the result is a *scalar*\n",
    "\n",
    "Algorithmically, the dot product is the summation of the multiplication of the elements $A_i \\times B_i$:"
   ]
  },
  {
   "cell_type": "code",
   "execution_count": 1,
   "id": "a86bd72f",
   "metadata": {},
   "outputs": [
    {
     "name": "stdout",
     "output_type": "stream",
     "text": [
      "70\n"
     ]
    }
   ],
   "source": [
    "# Defining both vectors\n",
    "u = [1, 2, 3, 4]\n",
    "v = [5, 6, 7, 8]\n",
    "\n",
    "uv = 0 # Summation variable\n",
    "\n",
    "for i in range(len(u)):\n",
    "    uv += u[i] * v[i]\n",
    "\n",
    "print(uv)\n"
   ]
  },
  {
   "cell_type": "markdown",
   "id": "a622d7f4",
   "metadata": {},
   "source": [
    "### Orthogonal vectors\n",
    "\n",
    "- If two vectors are perpendicular, we say they are orthogonal to each other. \n",
    "\n",
    "- If the dot product of two vectors is zero, then they are orthogonal. \n"
   ]
  }
 ],
 "metadata": {
  "kernelspec": {
   "display_name": ".venv",
   "language": "python",
   "name": "python3"
  },
  "language_info": {
   "codemirror_mode": {
    "name": "ipython",
    "version": 3
   },
   "file_extension": ".py",
   "mimetype": "text/x-python",
   "name": "python",
   "nbconvert_exporter": "python",
   "pygments_lexer": "ipython3",
   "version": "3.12.1"
  }
 },
 "nbformat": 4,
 "nbformat_minor": 5
}
