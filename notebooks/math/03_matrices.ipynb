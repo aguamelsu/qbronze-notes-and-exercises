{
 "cells": [
  {
   "cell_type": "markdown",
   "id": "05bb1d99",
   "metadata": {},
   "source": [
    "<center>\n",
    "<h2 style=\"font-weight: bold\">03: Matrices</h2>\n",
    "</center>"
   ]
  },
  {
   "cell_type": "markdown",
   "id": "c4c803ad",
   "metadata": {},
   "source": [
    "A matrix is a list of vectors where each vector has the same dimension.\n",
    "\n",
    "Here is an example matrix formed by 4 row vectors with dimension 5:\n",
    "\n",
    "$$\n",
    "    M = \\begin{pmatrix} 8 & 0 & -1 & 0 & 2 \\\\ -2 & -3 & 1 & 1 & 4 \\\\ 0 & 0 & 1 & -7 & 1 \\\\ 1 & 4 & -2 & 5 & 9\\end{pmatrix}\n",
    "$$\n",
    "\n",
    "We can also say that $M$ is formed by 5 column vectors with dimension 4.\n",
    "\n",
    "$M$ is called an $ (4 \\times 5) $-dimensional matrix. ($4 \\times 5$: \"four times five\") \n",
    "\n",
    "We can represent $M$ as a two dimensional list in Python. "
   ]
  },
  {
   "cell_type": "code",
   "execution_count": 1,
   "id": "b28051af",
   "metadata": {},
   "outputs": [
    {
     "data": {
      "text/plain": [
       "[[8, 0, -1, 0, 2], [-2, -3, 1, 1, 4], [0, 0, 1, -7, 1], [1, 4, -2, 5, 9]]"
      ]
     },
     "execution_count": 1,
     "metadata": {},
     "output_type": "execute_result"
    }
   ],
   "source": [
    "M = [ \n",
    "    [8 , 0 , -1 , 0 , 2], \n",
    "    [-2 , -3 , 1 , 1 , 4], \n",
    "    [0 , 0 , 1 , -7 , 1],\n",
    "    [1 , 4 , -2 , 5 , 9]\n",
    "] \n",
    "\n",
    "\n",
    "M"
   ]
  },
  {
   "cell_type": "markdown",
   "id": "7239057d",
   "metadata": {},
   "source": [
    "By definition, the rows and columns of matrices are indexed starting from 1.\n",
    "\n",
    "The $ (i,j) $-th entry of $ M $ refers to the entry in $ i $-th row and $ j $-th column.\n",
    "\n",
    "- $ M[i,j] $\n",
    "\n",
    "- $ M(i,j) $\n",
    "\n",
    "- $ M_{ij} $.\n"
   ]
  },
  {
   "cell_type": "markdown",
   "id": "5ad8648e",
   "metadata": {},
   "source": [
    "### Matrices times a number\n",
    "\n",
    "When matrix $ M $ is multiplied by $ -2 $, each entry is multiplied by $ -2 $."
   ]
  },
  {
   "cell_type": "code",
   "execution_count": 3,
   "id": "f6838783",
   "metadata": {},
   "outputs": [
    {
     "name": "stdout",
     "output_type": "stream",
     "text": [
      "[-16, 0, 2, 0, -4]\n",
      "[4, 6, -2, -2, -8]\n",
      "[0, 0, -2, 14, -2]\n",
      "[-2, -8, 4, -10, -18]\n"
     ]
    }
   ],
   "source": [
    "N =[] # the result matrix\n",
    "\n",
    "for i in range(4): \n",
    "    N.append([]) \n",
    "    for j in range(5): \n",
    "        N[i].append(M[i][j]*-2) \n",
    "        \n",
    "for i in range(4):\n",
    "    print(N[i])"
   ]
  },
  {
   "cell_type": "markdown",
   "id": "e65ed513",
   "metadata": {},
   "source": [
    "### Summation of matrices\n",
    "\n",
    "If $ M $ and $ N $ are matrices with the same dimensions, then $ M+N $ is also a matrix with the same dimensions.\n",
    "\n",
    "The summation of two matrices is similar to the summation of two vectors. \n",
    "\n",
    "If $ K = M +N $, then $ K[i,j] = M[i,j] + N[i,j] $ for every pair of $ (i,j) $."
   ]
  },
  {
   "cell_type": "code",
   "execution_count": 4,
   "id": "464362e7",
   "metadata": {},
   "outputs": [
    {
     "name": "stdout",
     "output_type": "stream",
     "text": [
      "M= [[8, 0, -1, 0, 2], [-2, -3, 1, 1, 4], [0, 0, 1, -7, 1], [1, 4, -2, 5, 9]]\n",
      "N= [[-16, 0, 2, 0, -4], [4, 6, -2, -2, -8], [0, 0, -2, 14, -2], [-2, -8, 4, -10, -18]]\n",
      "K= [[-8, 0, 1, 0, -2], [2, 3, -1, -1, -4], [0, 0, -1, 7, -1], [-1, -4, 2, -5, -9]]\n"
     ]
    }
   ],
   "source": [
    "K=[]\n",
    "\n",
    "for i in range(len(M)): \n",
    "    K.append([]) \n",
    "    for j in range(len(M[0])): \n",
    "        K[i].append(M[i][j]+N[i][j]) \n",
    "\n",
    "\n",
    "print(\"M=\",M)\n",
    "print(\"N=\",N)\n",
    "print(\"K=\",K)"
   ]
  },
  {
   "cell_type": "markdown",
   "id": "1f7d12e7",
   "metadata": {},
   "source": [
    "### Transpose of a matrix\n",
    "\n",
    "The transpose of a matrix is obtained by interchanging rows and columns. \n",
    "\n",
    "For example, the second row becomes the new second column, and third column becomes the new third row.\n",
    "\n",
    "The transpose of a matrix $ M $ is denoted by $ M^T $."
   ]
  },
  {
   "cell_type": "markdown",
   "id": "92d86596",
   "metadata": {},
   "source": [
    "### Multiplication of a matrix with a vector\n",
    "\n",
    "The multiplication of $ M v $ is a new vector $ u $ shown as $ u = M v $:\n",
    "\n",
    "- The first entry of $u$ is the dot product of the first row of $ M $ and $ v $.\n",
    "- The second entry of $ u $ is the dot product of the second row of $M$ and $ v $\n",
    "- The third entry of $ u $ is the dot product of the third row of $M$ and $v$. \n"
   ]
  },
  {
   "cell_type": "code",
   "execution_count": 6,
   "id": "95e6fae9",
   "metadata": {},
   "outputs": [
    {
     "name": "stdout",
     "output_type": "stream",
     "text": [
      "M is\n",
      "[-1, 0, 1]\n",
      "[-2, -3, 4]\n",
      "[1, 5, 6]\n",
      "\n",
      "v= [1, -3, 2]\n",
      "\n",
      "u= [1, 15, -2]\n"
     ]
    }
   ],
   "source": [
    "# matrix M\n",
    "M = [\n",
    "    [-1,0,1],\n",
    "    [-2,-3,4],\n",
    "    [1,5,6]\n",
    "]\n",
    "\n",
    "# vector v\n",
    "v = [1,-3,2]\n",
    "\n",
    "# the result vector u\n",
    "u = []\n",
    "\n",
    "# for each row, we do an inner product\n",
    "for i in range(3):\n",
    "    # inner product for one row is initiated\n",
    "    inner_result = 0 # this variable keeps the summation of the pairwise multiplications\n",
    "    for j in range(3): # the elements in the i-th row\n",
    "        inner_result = inner_result + M[i][j] * v[j]\n",
    "    # inner product for one row is completed\n",
    "    u.append(inner_result)\n",
    "\n",
    "print(\"M is\")\n",
    "for i in range(len(M)):\n",
    "    print(M[i])\n",
    "print()\n",
    "print(\"v=\",v)\n",
    "print()\n",
    "print(\"u=\",u)"
   ]
  }
 ],
 "metadata": {
  "kernelspec": {
   "display_name": ".venv",
   "language": "python",
   "name": "python3"
  },
  "language_info": {
   "codemirror_mode": {
    "name": "ipython",
    "version": 3
   },
   "file_extension": ".py",
   "mimetype": "text/x-python",
   "name": "python",
   "nbconvert_exporter": "python",
   "pygments_lexer": "ipython3",
   "version": "3.12.1"
  }
 },
 "nbformat": 4,
 "nbformat_minor": 5
}
