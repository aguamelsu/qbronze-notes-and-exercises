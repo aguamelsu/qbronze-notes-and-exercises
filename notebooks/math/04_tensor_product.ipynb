{
 "cells": [
  {
   "cell_type": "markdown",
   "id": "81b4b238",
   "metadata": {},
   "source": [
    "<center>\n",
    "<h2 style=\"font-weight: bold\">04: Tensor product</h2>\n",
    "</center>"
   ]
  },
  {
   "cell_type": "markdown",
   "id": "4df243d9",
   "metadata": {},
   "source": [
    "- Tensor product is defined between two matrices, no matter the size. The result is a new bigger matrix. \n",
    "\n",
    "- The tensor product of $u$ and $ v $ is denoted by $ u \\otimes v $:\n",
    "\n",
    "$$\n",
    "    u \\otimes v =  \\begin{pmatrix} -2 \\\\ 3 \\end{pmatrix} \\otimes \\begin{pmatrix} 1 \\\\ 2 \\\\ -3 \\end{pmatrix} =\n",
    "   \\begin{pmatrix} -2 \\cdot  \\begin{pmatrix} 1 \\\\ 2 \\\\ -3 \\end{pmatrix} \\\\ 3 \\cdot  \\begin{pmatrix} 1 \\\\ 2 \\\\ -3 \\end{pmatrix} \\end{pmatrix}=\n",
    "   \\begin{pmatrix} -2 \\\\ -4 \\\\ 6 \\\\ 3 \\\\ 6 \\\\ -9  \\end{pmatrix}\n",
    "$$"
   ]
  },
  {
   "cell_type": "code",
   "execution_count": 1,
   "id": "762a45cb",
   "metadata": {},
   "outputs": [
    {
     "name": "stdout",
     "output_type": "stream",
     "text": [
      "v= [1, 2, -3]\n",
      "u= [-2, 3]\n",
      "vu= [-2, 3, -4, 6, 6, -9]\n"
     ]
    }
   ],
   "source": [
    "v = [1,2,-3]\n",
    "u=[-2,3]\n",
    "\n",
    "vu = []\n",
    "\n",
    "for i in range(len(v)): \n",
    "    for j in range(len(u)):\n",
    "        vu.append( v[i] * u[j] )\n",
    "\n",
    "print(\"v=\",v)\n",
    "print(\"u=\",u)\n",
    "print(\"vu=\",vu)"
   ]
  },
  {
   "cell_type": "code",
   "execution_count": 2,
   "id": "32ca4be2",
   "metadata": {},
   "outputs": [
    {
     "name": "stdout",
     "output_type": "stream",
     "text": [
      "M-tensor-N is\n",
      "[0, -2, -1, 0, 0, 0, 0, 2, 1]\n",
      "[-3, 1, 2, 0, 0, 0, 3, -1, -2]\n",
      "[1, -1, 0, 0, 0, 0, -1, 1, 0]\n",
      "[0, -4, -2, 0, -2, -1, 0, 4, 2]\n",
      "[-6, 2, 4, -3, 1, 2, 6, -2, -4]\n",
      "[2, -2, 0, 1, -1, 0, -2, 2, 0]\n",
      "[0, 2, 1, 0, 4, 2, 0, -4, -2]\n",
      "[3, -1, -2, 6, -2, -4, -6, 2, 4]\n",
      "[-1, 1, 0, -2, 2, 0, 2, -2, 0]\n"
     ]
    }
   ],
   "source": [
    "M = [ \n",
    "    [-1,0,1],\n",
    "    [-2,-1,2],\n",
    "    [1,2,-2]\n",
    "]\n",
    "\n",
    "\n",
    "N = [\n",
    "    [0,2,1],\n",
    "    [3,-1,-2],\n",
    "    [-1,1,0]\n",
    "]\n",
    "\n",
    "MN=[]\n",
    "for i in range(9):\n",
    "    MN.append([])\n",
    "    for j in range(9):\n",
    "        MN[i].append(0)\n",
    "\n",
    "for i in range(3): \n",
    "    for j in range(3): \n",
    "        for k in range(3): \n",
    "            for l in range(3): \n",
    "                MN[i*3+k][3*j+l] = M[i][j] * N[k][l] \n",
    "\n",
    "print(\"M-tensor-N is\")                \n",
    "for i in range(9):\n",
    "    print(MN[i])"
   ]
  }
 ],
 "metadata": {
  "kernelspec": {
   "display_name": ".venv",
   "language": "python",
   "name": "python3"
  },
  "language_info": {
   "codemirror_mode": {
    "name": "ipython",
    "version": 3
   },
   "file_extension": ".py",
   "mimetype": "text/x-python",
   "name": "python",
   "nbconvert_exporter": "python",
   "pygments_lexer": "ipython3",
   "version": "3.12.1"
  }
 },
 "nbformat": 4,
 "nbformat_minor": 5
}
