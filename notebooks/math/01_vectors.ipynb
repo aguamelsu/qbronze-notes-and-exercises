{
 "cells": [
  {
   "cell_type": "markdown",
   "id": "a221f10b",
   "metadata": {},
   "source": [
    "<center>\n",
    "<h2 style=\"font-weight: bold\">01: Vectors</h2>\n",
    "</center>"
   ]
  },
  {
   "cell_type": "markdown",
   "id": "fef5e0fc",
   "metadata": {},
   "source": [
    "- A **Vector** is a list of numbers. Each number usually represents something in a defined space. *E.g* velocity in 2 or 3 dimensions, probabilities, colors, etc.\n",
    "\n",
    "- The number of entries in a vector is the **size** or the **dimension** of the vector.\n",
    "\n",
    "A vector can be horizontal (row vector) or vertical (column vector):\n",
    "\n",
    "$$row=\\begin{pmatrix} a_1 & a_2 & . & . & a_n \\end{pmatrix}$$\n",
    "$$column=\\begin{pmatrix} a_1 \\\\ a_2 \\\\ . \\\\ . \\\\ a_n \\end{pmatrix}$$"
   ]
  },
  {
   "cell_type": "code",
   "execution_count": 1,
   "id": "104eeccd",
   "metadata": {},
   "outputs": [
    {
     "name": "stdout",
     "output_type": "stream",
     "text": [
      "[1, 2, 3, 4]\n"
     ]
    }
   ],
   "source": [
    "my_vector = [1, 2, 3, 4]\n",
    "print(my_vector)"
   ]
  },
  {
   "cell_type": "markdown",
   "id": "9c4e4e06",
   "metadata": {},
   "source": [
    "### Vector and scalar multiplication\n",
    "\n",
    "- Multiplying a vector to a single number returns a vector of the same dimension as the original one:\n",
    "\n",
    "$$2 * \\begin{pmatrix} 1 & 2 & 3 \\end{pmatrix} = \\begin{pmatrix} 2 & 4 & 6 \\end{pmatrix}$$\n",
    "\n",
    "$$2 * \\begin{pmatrix} 1 \\\\ 2 \\\\ 3 \\end{pmatrix} = \\begin{pmatrix} 2 \\\\ 4 \\\\ 6 \\end{pmatrix}$$\n"
   ]
  },
  {
   "cell_type": "code",
   "execution_count": 8,
   "id": "d9712af1",
   "metadata": {},
   "outputs": [
    {
     "name": "stdout",
     "output_type": "stream",
     "text": [
      "2*u is  [2, 4, 6]\n",
      "2*v is  [[2], [4], [6]]\n"
     ]
    }
   ],
   "source": [
    "# let u be the row vector\n",
    "u = [1, 2, 3]\n",
    "\n",
    "# let v equal the column vector\n",
    "v = [[1], [2], [3]]\n",
    "\n",
    "for i in range(len(u)):\n",
    "    u[i] *= 2\n",
    "    v[i][0] *= 2\n",
    "\n",
    "print('2*u is ', u)\n",
    "print('2*v is ', v)"
   ]
  },
  {
   "cell_type": "markdown",
   "id": "6e8c2cc5",
   "metadata": {},
   "source": [
    "### Sum of vectors\n",
    "\n",
    "Two vectors can be directly summed up as long as they are the same dimension:"
   ]
  },
  {
   "cell_type": "code",
   "execution_count": 10,
   "id": "dbe83c43",
   "metadata": {},
   "outputs": [
    {
     "name": "stdout",
     "output_type": "stream",
     "text": [
      "u+v is [-4, -3, 2, -4, 9]\n"
     ]
    }
   ],
   "source": [
    "u = [-3,-2,0,-1,4]\n",
    "v = [-1,-1,2,-3,5]\n",
    "\n",
    "result=[]\n",
    "\n",
    "for i in range(len(u)):\n",
    "    result.append(u[i]+v[i])\n",
    "\n",
    "print(\"u+v is\",result)"
   ]
  },
  {
   "cell_type": "markdown",
   "id": "d4b56dc2",
   "metadata": {},
   "source": [
    "### Length of a vector\n",
    "\n",
    "The length of a vector is the distance from the tail to the head of the vector. To calculate it we use **Pythagoras Theorem**:"
   ]
  },
  {
   "cell_type": "code",
   "execution_count": 13,
   "id": "470a3a3a",
   "metadata": {},
   "outputs": [
    {
     "name": "stderr",
     "output_type": "stream",
     "text": [
      "<>:7: SyntaxWarning: invalid escape sequence '\\s'\n",
      "<>:7: SyntaxWarning: invalid escape sequence '\\s'\n",
      "/tmp/ipykernel_4674/2604905731.py:7: SyntaxWarning: invalid escape sequence '\\s'\n",
      "  place_text(-1.43,2.3,\"$||u||=\\sqrt{(-3)^2+4^2}=\\sqrt{25}=5$\")\n"
     ]
    },
    {
     "ename": "ModuleNotFoundError",
     "evalue": "No module named 'base32hex'",
     "output_type": "error",
     "traceback": [
      "\u001b[31m---------------------------------------------------------------------------\u001b[39m",
      "\u001b[31mModuleNotFoundError\u001b[39m                       Traceback (most recent call last)",
      "\u001b[36mCell\u001b[39m\u001b[36m \u001b[39m\u001b[32mIn[13]\u001b[39m\u001b[32m, line 1\u001b[39m\n\u001b[32m----> \u001b[39m\u001b[32m1\u001b[39m \u001b[38;5;28;01mfrom\u001b[39;00m\u001b[38;5;250m \u001b[39m\u001b[34;01mdrawing\u001b[39;00m\u001b[38;5;250m \u001b[39m\u001b[38;5;28;01mimport\u001b[39;00m plot_2D_plane, draw_vector, place_text, show_plt\n\u001b[32m      3\u001b[39m plot_2D_plane(right=\u001b[32m3\u001b[39m,up=\u001b[32m5\u001b[39m,left=-\u001b[32m5\u001b[39m,down=-\u001b[32m3\u001b[39m,fsize=(\u001b[32m6\u001b[39m,\u001b[32m6\u001b[39m))\n\u001b[32m      4\u001b[39m draw_vector(-\u001b[32m3\u001b[39m,\u001b[32m4\u001b[39m,sides=\u001b[38;5;28;01mTrue\u001b[39;00m,show_name=\u001b[38;5;28;01mFalse\u001b[39;00m)\n",
      "\u001b[36mFile \u001b[39m\u001b[32m/workspaces/qbronze-notes-and-exercises/.venv/lib/python3.12/site-packages/drawing/__init__.py:1\u001b[39m\n\u001b[32m----> \u001b[39m\u001b[32m1\u001b[39m \u001b[38;5;28;01mfrom\u001b[39;00m\u001b[38;5;250m \u001b[39m\u001b[34;01m.\u001b[39;00m\u001b[34;01mGraph\u001b[39;00m\u001b[38;5;250m \u001b[39m\u001b[38;5;28;01mimport\u001b[39;00m Graph\n\u001b[32m      2\u001b[39m \u001b[38;5;28;01mfrom\u001b[39;00m\u001b[38;5;250m \u001b[39m\u001b[34;01m.\u001b[39;00m\u001b[34;01mNode\u001b[39;00m\u001b[38;5;250m \u001b[39m\u001b[38;5;28;01mimport\u001b[39;00m Node\n\u001b[32m      3\u001b[39m \u001b[38;5;28;01mfrom\u001b[39;00m\u001b[38;5;250m \u001b[39m\u001b[34;01m.\u001b[39;00m\u001b[34;01mEdge\u001b[39;00m\u001b[38;5;250m \u001b[39m\u001b[38;5;28;01mimport\u001b[39;00m Edge\n",
      "\u001b[36mFile \u001b[39m\u001b[32m/workspaces/qbronze-notes-and-exercises/.venv/lib/python3.12/site-packages/drawing/Graph.py:1\u001b[39m\n\u001b[32m----> \u001b[39m\u001b[32m1\u001b[39m \u001b[38;5;28;01mfrom\u001b[39;00m\u001b[38;5;250m \u001b[39m\u001b[34;01m.\u001b[39;00m\u001b[34;01mNode\u001b[39;00m\u001b[38;5;250m \u001b[39m\u001b[38;5;28;01mimport\u001b[39;00m Node\n\u001b[32m      2\u001b[39m \u001b[38;5;28;01mfrom\u001b[39;00m\u001b[38;5;250m \u001b[39m\u001b[34;01m.\u001b[39;00m\u001b[34;01mEdge\u001b[39;00m\u001b[38;5;250m \u001b[39m\u001b[38;5;28;01mimport\u001b[39;00m Edge\n\u001b[32m      3\u001b[39m \u001b[38;5;28;01mfrom\u001b[39;00m\u001b[38;5;250m \u001b[39m\u001b[34;01mcollections\u001b[39;00m\u001b[38;5;250m \u001b[39m\u001b[38;5;28;01mimport\u001b[39;00m OrderedDict\n",
      "\u001b[36mFile \u001b[39m\u001b[32m/workspaces/qbronze-notes-and-exercises/.venv/lib/python3.12/site-packages/drawing/Node.py:1\u001b[39m\n\u001b[32m----> \u001b[39m\u001b[32m1\u001b[39m \u001b[38;5;28;01mfrom\u001b[39;00m\u001b[38;5;250m \u001b[39m\u001b[34;01m.\u001b[39;00m\u001b[34;01mGraphObj\u001b[39;00m\u001b[38;5;250m \u001b[39m\u001b[38;5;28;01mimport\u001b[39;00m GraphObj\n\u001b[32m      2\u001b[39m \u001b[38;5;28;01mfrom\u001b[39;00m\u001b[38;5;250m \u001b[39m\u001b[34;01m.\u001b[39;00m\u001b[34;01mStyle\u001b[39;00m\u001b[38;5;250m \u001b[39m\u001b[38;5;28;01mimport\u001b[39;00m NodeStyle\n\u001b[32m      4\u001b[39m \u001b[38;5;28;01mfrom\u001b[39;00m\u001b[38;5;250m \u001b[39m\u001b[34;01mcollections\u001b[39;00m\u001b[38;5;250m \u001b[39m\u001b[38;5;28;01mimport\u001b[39;00m OrderedDict\n",
      "\u001b[36mFile \u001b[39m\u001b[32m/workspaces/qbronze-notes-and-exercises/.venv/lib/python3.12/site-packages/drawing/GraphObj.py:2\u001b[39m\n\u001b[32m      1\u001b[39m \u001b[38;5;28;01mimport\u001b[39;00m\u001b[38;5;250m \u001b[39m\u001b[34;01mhashlib\u001b[39;00m\n\u001b[32m----> \u001b[39m\u001b[32m2\u001b[39m \u001b[38;5;28;01mimport\u001b[39;00m\u001b[38;5;250m \u001b[39m\u001b[34;01mbase32hex\u001b[39;00m\n\u001b[32m      4\u001b[39m \u001b[38;5;28;01mdef\u001b[39;00m\u001b[38;5;250m \u001b[39m\u001b[34mmake_hash_sha256\u001b[39m(obj):\n\u001b[32m      5\u001b[39m \thasher = hashlib.sha256()\n",
      "\u001b[31mModuleNotFoundError\u001b[39m: No module named 'base32hex'"
     ]
    }
   ],
   "source": [
    "from drawing import plot_2D_plane, draw_vector, place_text, show_plt\n",
    "\n",
    "plot_2D_plane(right=3,up=5,left=-5,down=-3,fsize=(6,6))\n",
    "draw_vector(-3,4,sides=True,show_name=False)\n",
    "place_text(-2.5,4.2,\"$x^2=(-3)^2=9$\")\n",
    "place_text(-5,2,\"$y^2=4^2=16$\")\n",
    "place_text(-1.43,2.3,\"$||u||=\\sqrt{(-3)^2+4^2}=\\sqrt{25}=5$\")\n",
    "show_plt()"
   ]
  }
 ],
 "metadata": {
  "kernelspec": {
   "display_name": ".venv",
   "language": "python",
   "name": "python3"
  },
  "language_info": {
   "codemirror_mode": {
    "name": "ipython",
    "version": 3
   },
   "file_extension": ".py",
   "mimetype": "text/x-python",
   "name": "python",
   "nbconvert_exporter": "python",
   "pygments_lexer": "ipython3",
   "version": "3.12.1"
  }
 },
 "nbformat": 4,
 "nbformat_minor": 5
}
