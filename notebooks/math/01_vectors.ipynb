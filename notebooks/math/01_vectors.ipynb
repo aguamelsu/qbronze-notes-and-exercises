{
 "cells": [
  {
   "cell_type": "markdown",
   "id": "a221f10b",
   "metadata": {},
   "source": [
    "<center>\n",
    "<h2 style=\"font-weight: bold\">01: Vectors</h2>\n",
    "</center>"
   ]
  },
  {
   "cell_type": "markdown",
   "id": "fef5e0fc",
   "metadata": {},
   "source": [
    "- A **Vector** is a list of numbers. Each number usually represents something in a defined space. *E.g* velocity in 2 or 3 dimensions, probabilities, colors, etc.\n",
    "\n",
    "- The number of entries in a vector is the **size** or the **dimension** of the vector.\n",
    "\n",
    "A vector can be horizontal (row vector) or vertical (column vector):\n",
    "\n",
    "$$row=\\begin{pmatrix} a_1 & a_2 & . & . & a_n \\end{pmatrix}$$\n",
    "$$column=\\begin{pmatrix} a_1 \\\\ a_2 \\\\ . \\\\ . \\\\ a_n \\end{pmatrix}$$"
   ]
  },
  {
   "cell_type": "code",
   "execution_count": 1,
   "id": "104eeccd",
   "metadata": {},
   "outputs": [
    {
     "name": "stdout",
     "output_type": "stream",
     "text": [
      "[1, 2, 3, 4]\n"
     ]
    }
   ],
   "source": [
    "my_vector = [1, 2, 3, 4]\n",
    "print(my_vector)"
   ]
  },
  {
   "cell_type": "markdown",
   "id": "9c4e4e06",
   "metadata": {},
   "source": [
    "### Vector and scalar multiplication\n",
    "\n",
    "- Multiplying a vector to a single number returns a vector of the same dimension as the original one:\n",
    "\n",
    "$$2 * \\begin{pmatrix} 1 & 2 & 3 \\end{pmatrix} = \\begin{pmatrix} 2 & 4 & 6 \\end{pmatrix}$$\n",
    "\n",
    "$$2 * \\begin{pmatrix} 1 \\\\ 2 \\\\ 3 \\end{pmatrix} = \\begin{pmatrix} 2 \\\\ 4 \\\\ 6 \\end{pmatrix}$$\n"
   ]
  },
  {
   "cell_type": "code",
   "execution_count": 8,
   "id": "d9712af1",
   "metadata": {},
   "outputs": [
    {
     "name": "stdout",
     "output_type": "stream",
     "text": [
      "2*u is  [2, 4, 6]\n",
      "2*v is  [[2], [4], [6]]\n"
     ]
    }
   ],
   "source": [
    "# let u be the row vector\n",
    "u = [1, 2, 3]\n",
    "\n",
    "# let v equal the column vector\n",
    "v = [[1], [2], [3]]\n",
    "\n",
    "for i in range(len(u)):\n",
    "    u[i] *= 2\n",
    "    v[i][0] *= 2\n",
    "\n",
    "print('2*u is ', u)\n",
    "print('2*v is ', v)"
   ]
  },
  {
   "cell_type": "markdown",
   "id": "6e8c2cc5",
   "metadata": {},
   "source": [
    "### Sum of vectors\n",
    "\n",
    "Two vectors can be directly summed up as long as they are the same dimension:"
   ]
  },
  {
   "cell_type": "code",
   "execution_count": 10,
   "id": "dbe83c43",
   "metadata": {},
   "outputs": [
    {
     "name": "stdout",
     "output_type": "stream",
     "text": [
      "u+v is [-4, -3, 2, -4, 9]\n"
     ]
    }
   ],
   "source": [
    "u = [-3,-2,0,-1,4]\n",
    "v = [-1,-1,2,-3,5]\n",
    "\n",
    "result=[]\n",
    "\n",
    "for i in range(len(u)):\n",
    "    result.append(u[i]+v[i])\n",
    "\n",
    "print(\"u+v is\",result)"
   ]
  },
  {
   "cell_type": "markdown",
   "id": "d4b56dc2",
   "metadata": {},
   "source": [
    "### Length of a vector\n",
    "\n",
    "The length of a vector is the distance from the tail to the head of the vector. To calculate it we use **Pythagoras Theorem**:"
   ]
  },
  {
   "cell_type": "code",
   "execution_count": 3,
   "id": "470a3a3a",
   "metadata": {},
   "outputs": [
    {
     "data": {
      "image/png": "[encoded data removed]",
      "text/plain": [
       "<Figure size 640x480 with 1 Axes>"
      ]
     },
     "metadata": {},
     "output_type": "display_data"
    }
   ],
   "source": [
    "import matplotlib.pyplot as plt\n",
    "\n",
    "# Define starting points and vector components\n",
    "X = [0, 1]\n",
    "Y = [-3, 4]\n",
    "\n",
    "plt.quiver(X, Y, angles='xy', scale_units='xy', scale=1)\n",
    "plt.xlim(-5, 5)\n",
    "plt.ylim(-5, 5)\n",
    "plt.grid(True)\n",
    "plt.axhline(0, color='black',linewidth=0.5)\n",
    "plt.axvline(0, color='black',linewidth=0.5)\n",
    "plt.show()"
   ]
  }
 ],
 "metadata": {
  "kernelspec": {
   "display_name": ".venv",
   "language": "python",
   "name": "python3"
  },
  "language_info": {
   "codemirror_mode": {
    "name": "ipython",
    "version": 3
   },
   "file_extension": ".py",
   "mimetype": "text/x-python",
   "name": "python",
   "nbconvert_exporter": "python",
   "pygments_lexer": "ipython3",
   "version": "3.12.1"
  }
 },
 "nbformat": 4,
 "nbformat_minor": 5
}
