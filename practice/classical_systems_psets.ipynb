{
 "cells": [
  {
   "cell_type": "markdown",
   "id": "8d580d22",
   "metadata": {},
   "source": [
    "### PSET 1.1: Coin flip"
   ]
  },
  {
   "cell_type": "markdown",
   "id": "706f394f",
   "metadata": {},
   "source": [
    "*Problem 1*\n",
    "\n",
    "Flip a fair coin 100 times. Calculate the total number of heads and tails, then check tha ration of the number of heads and the number of tails. Repeat it 1000, 10000, 100000 times. Are the results close to the ideal case (50% probability H|T)?"
   ]
  },
  {
   "cell_type": "code",
   "execution_count": 1,
   "id": "ff9b980f",
   "metadata": {},
   "outputs": [
    {
     "name": "stdout",
     "output_type": "stream",
     "text": [
      "Heads: 0.52. Tails: 0.41. In 100 trials\n",
      "Heads: 0.51. Tails: 0.488. In 1000 trials\n",
      "Heads: 0.5014. Tails: 0.507. In 10000 trials\n",
      "Heads: 0.5014. Tails: 0.49822. In 100000 trials\n"
     ]
    }
   ],
   "source": [
    "from random import randrange\n",
    "\n",
    "\n",
    "def coin_flips(trials):\n",
    "    heads = tails = 0\n",
    "\n",
    "    for _ in range(trials):\n",
    "        output = randrange(0, 2)\n",
    "        if output == 1:\n",
    "            tails += 1\n",
    "        else:\n",
    "            heads += 1\n",
    "\n",
    "    head_ratio = heads/trials\n",
    "    tails_ratio = tails/trials\n",
    "\n",
    "    return head_ratio, tails_ratio\n",
    "\n",
    "print(f'Heads: {coin_flips(100)[0]}. Tails: {coin_flips(100)[1]}. In 100 trials')\n",
    "print(f'Heads: {coin_flips(1000)[0]}. Tails: {coin_flips(1000)[1]}. In 1000 trials')\n",
    "print(f'Heads: {coin_flips(10000)[0]}. Tails: {coin_flips(10000)[1]}. In 10000 trials')\n",
    "print(f'Heads: {coin_flips(100000)[0]}. Tails: {coin_flips(100000)[1]}. In 100000 trials')"
   ]
  },
  {
   "cell_type": "markdown",
   "id": "2f278487",
   "metadata": {},
   "source": [
    "*Problem 2*: \n",
    "\n",
    "Do the same for *Problem 1* but for a biased coin with 60% of probability for Heads and 40% for tails"
   ]
  },
  {
   "cell_type": "code",
   "execution_count": 3,
   "id": "7a04e29e",
   "metadata": {},
   "outputs": [],
   "source": [
    "from random import randrange\n",
    "\n",
    "\n",
    "def biased_coins(trials):\n",
    "    heads = tails = 0\n",
    "    for _ in range(trials):\n",
    "        if randrange(60)  < 60:\n",
    "            heads += 1\n",
    "        else:\n",
    "            tails += 1\n",
    "    head_ratio = heads/trials\n",
    "    tails_ratio = tails/trials\n",
    "\n",
    "    return head_ratio, tails_ratio"
   ]
  },
  {
   "cell_type": "markdown",
   "id": "8a0afff5",
   "metadata": {},
   "source": [
    "*Problem 3*:\n",
    "\n",
    "Write a function that describes a biased coin:\n",
    "- The inputs are integers $N>0$ and $ B \\in \\{0,\\ldots,N\\} $. \n",
    "- The output is either \"Heads\" or \"Tails\"."
   ]
  },
  {
   "cell_type": "code",
   "execution_count": 4,
   "id": "4ff0e49a",
   "metadata": {},
   "outputs": [],
   "source": [
    "from random import randrange\n",
    "\n",
    "\n",
    "def biased_coin(N,B):\n",
    "    random_number = randrange(N)\n",
    "    if random_number < B:\n",
    "        return \"Heads\"\n",
    "    else:\n",
    "        return \"Tails\""
   ]
  },
  {
   "cell_type": "markdown",
   "id": "c0f1dd51",
   "metadata": {},
   "source": [
    "*Problem 4*:\n",
    "\n",
    "From the function in *Problem 3*, pick $N$ as 101. Then flip the same biased coin 500 times, collect the necesary statistics, and then guess the bias. "
   ]
  },
  {
   "cell_type": "code",
   "execution_count": 12,
   "id": "b6265bd6",
   "metadata": {},
   "outputs": [
    {
     "name": "stdout",
     "output_type": "stream",
     "text": [
      "guess:  0.464\n",
      "bias:  0.43564356435643564\n",
      "error: 6.509090909090914%\n"
     ]
    }
   ],
   "source": [
    "tosses = 500\n",
    "heads = 0\n",
    "n = 101\n",
    "b = randrange(n+1)\n",
    "\n",
    "for _ in range(tosses):\n",
    "    if biased_coin(n, b) == 'Heads':\n",
    "        heads += 1\n",
    "\n",
    "guess = heads / tosses\n",
    "bias = b / n\n",
    "error = abs(guess - bias) / bias * 100\n",
    "\n",
    "print('guess: ', guess)\n",
    "print('bias: ', bias)\n",
    "print(f'error: {error}%')"
   ]
  },
  {
   "cell_type": "markdown",
   "id": "737b82bd",
   "metadata": {},
   "source": [
    "### PSET 1.3: Probabilistic States"
   ]
  },
  {
   "cell_type": "markdown",
   "id": "f8b31e51",
   "metadata": {},
   "source": [
    "*Problem 1*:\n",
    "\n",
    "Suppose that Fyodor secretly rolls a loaded (tricky) dice with the bias \n",
    "\n",
    "$$ Pr(1):Pr(2):Pr(3):Pr(4):Pr(5):Pr(6) = 7:5:4:2:6:1 . $$\n",
    "\n",
    "Represent your information about the result as a column vector. Remark that the size of your column vector should be 6."
   ]
  },
  {
   "cell_type": "code",
   "execution_count": 1,
   "id": "00cfa335",
   "metadata": {},
   "outputs": [
    {
     "name": "stdout",
     "output_type": "stream",
     "text": [
      "total is 25\n",
      "the weight of one portion is 0.04\n",
      "\n",
      "the probability of getting 1 is 0.28\n",
      "the probability of getting 2 is 0.2\n",
      "the probability of getting 3 is 0.16\n",
      "the probability of getting 4 is 0.08\n",
      "the probability of getting 5 is 0.24\n",
      "the probability of getting 6 is 0.04\n"
     ]
    }
   ],
   "source": [
    "all_portions = [7,5,4,2,6,1];\n",
    "\n",
    "total_portion = 0\n",
    "for i in range(6):\n",
    "    total_portion = total_portion + all_portions[i]\n",
    "\n",
    "print(\"total is\",total_portion)\n",
    "\n",
    "# find the weight of one portion\n",
    "one_portion = 1/total_portion\n",
    "print(\"the weight of one portion is\",one_portion)\n",
    "\n",
    "print() \n",
    "\n",
    "for i in range(6):\n",
    "    print(\"the probability of getting\",(i+1),\"is\",(one_portion*all_portions[i]))"
   ]
  },
  {
   "cell_type": "markdown",
   "id": "2537f2fb",
   "metadata": {},
   "source": [
    "*Problem 2*:\n",
    "\n",
    "For a system with 4 states, randomly create a probabilistic state, and print its entries, e.g., $ 0.16~~0.17~~0.02~~0.65 $.\n",
    "\n",
    "*Hint: You may pick your random numbers between 0 and 100 (or 1000), and then normalize each value by dividing the summation of all numbers.*"
   ]
  },
  {
   "cell_type": "code",
   "execution_count": 2,
   "id": "2fbe3f02",
   "metadata": {},
   "outputs": [
    {
     "name": "stdout",
     "output_type": "stream",
     "text": [
      "the random values before the normalization [22, 65, 15, 4]\n",
      "the random values after the normalization [0.20754716981132076, 0.6132075471698113, 0.14150943396226415, 0.03773584905660377]\n",
      "the summation is 0.9999999999999999\n"
     ]
    }
   ],
   "source": [
    "from random import randrange\n",
    "\n",
    "\n",
    "my_state = [0,0,0,0]\n",
    "normalization_factor = 0 \n",
    "\n",
    "while normalization_factor==0: \n",
    "    for i in range(4):\n",
    "        my_state[i] = randrange(101) \n",
    "        normalization_factor += my_state[i]\n",
    "        \n",
    "print(\"the random values before the normalization\",my_state)\n",
    "\n",
    "\n",
    "for i in range(4): my_state[i] = my_state[i]/normalization_factor\n",
    "    \n",
    "print(\"the random values after the normalization\",my_state)  \n",
    "\n",
    "\n",
    "sum = 0\n",
    "for i in range(4): sum += my_state[i]\n",
    "\n",
    "print(\"the summation is\",sum)"
   ]
  },
  {
   "cell_type": "markdown",
   "id": "a4851f05",
   "metadata": {},
   "source": [
    "### PSET 1.4: Probabilistic Operators"
   ]
  },
  {
   "cell_type": "markdown",
   "id": "9fd8aaac",
   "metadata": {},
   "source": [
    "*Problem 1*:\n",
    "\n",
    "We are given the following probabilistic operator: $ B =  \\begin{pmatrix} 0.4 & 0.6 & 0 \\\\ 0.2 & 0.1 & 0.7 \\\\ 0.4 & 0.3 & 0.3 \\end{pmatrix} $.\n",
    "\n",
    "What is the transition probability from the second state to the third state?\n",
    "\n",
    "What is the transition probability from the third state to the first state?\n",
    "\n",
    "What is the transition probability from the first state to the second state?\n"
   ]
  },
  {
   "cell_type": "markdown",
   "id": "6d2d2e4b",
   "metadata": {},
   "source": [
    "- Transition probability from state **2** to state **3**: 0.3\n",
    "- Transition probability from state **3** to state **1**: 0\n",
    "- Transition probability from state **1** to state **2**: 0.2"
   ]
  },
  {
   "cell_type": "markdown",
   "id": "a94861cb",
   "metadata": {},
   "source": [
    "*Problem 2:*\n",
    "\n",
    "What is the new probabilistic state if the operator $B$ is applied to the state: \n",
    "\n",
    "$$v = \\begin{pmatrix} 0.1 \\\\ 0.3 \\\\ 0.6 \\end{pmatrix} $$\n",
    "\n",
    "*Do not use any python library for matrix-vector multiplication*\n",
    "\n",
    "*The new probabilistic state should be:* \n",
    "$$v' = \\begin{pmatrix} 0.22 \\\\ 0.47 \\\\ 0.31 \\end{pmatrix} $$"
   ]
  },
  {
   "cell_type": "code",
   "execution_count": 4,
   "id": "17775ecb",
   "metadata": {},
   "outputs": [
    {
     "name": "stdout",
     "output_type": "stream",
     "text": [
      "[0.22, 0.47, 0.31]\n"
     ]
    }
   ],
   "source": [
    "B = [\n",
    "    [0.4,0.6,0],\n",
    "    [0.2,0.1,0.7],\n",
    "    [0.4,0.3,0.3]\n",
    "]\n",
    "\n",
    "# the current state\n",
    "v = [0.1,0.3,0.6]\n",
    "\n",
    "new = []\n",
    "\n",
    "index = 0\n",
    "\n",
    "for row in B:\n",
    "    new.append(0)\n",
    "    for i in range(len(row)):\n",
    "        new[index] = new[index] + row[i] * v[i]\n",
    "    index += 1\n",
    "\n",
    "print(new)"
   ]
  }
 ],
 "metadata": {
  "kernelspec": {
   "display_name": ".venv",
   "language": "python",
   "name": "python3"
  },
  "language_info": {
   "codemirror_mode": {
    "name": "ipython",
    "version": 3
   },
   "file_extension": ".py",
   "mimetype": "text/x-python",
   "name": "python",
   "nbconvert_exporter": "python",
   "pygments_lexer": "ipython3",
   "version": "3.12.1"
  }
 },
 "nbformat": 4,
 "nbformat_minor": 5
}
